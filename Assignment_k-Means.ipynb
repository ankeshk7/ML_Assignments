{
 "cells": [
  {
   "cell_type": "markdown",
   "metadata": {},
   "source": [
    "# Assignment_k-means"
   ]
  },
  {
   "cell_type": "code",
   "execution_count": 1,
   "metadata": {},
   "outputs": [
    {
     "name": "stdout",
     "output_type": "stream",
     "text": [
      "[-711.3188522095594, -482.5398990071221, -411.62832139210093, -380.85751730030586, -373.70503045378655, -373.421559957829, -379.9237344880036, -380.82589189753014, -374.5264984002684]\n"
     ]
    },
    {
     "data": {
      "image/png": "[encoded data removed]",
      "text/plain": [
       "<Figure size 432x288 with 1 Axes>"
      ]
     },
     "metadata": {
      "needs_background": "light"
     },
     "output_type": "display_data"
    }
   ],
   "source": [
    "# K-Means Clustering\n",
    "\n",
    "# Importing the libraries\n",
    "import numpy as np\n",
    "import matplotlib.pyplot as plt\n",
    "import pandas as pd\n",
    "from sklearn import cluster\n",
    "from scipy.spatial import distance\n",
    "from sklearn.preprocessing import StandardScaler\n",
    "\n",
    "# Importing the dataset\n",
    "dataset = pd.read_csv('dataset.csv')\n",
    "X = dataset.iloc[:,:].values\n",
    "\n",
    "#Function For Calculating BIC\n",
    "def compute_bic(kmeans,X):\n",
    "    \n",
    "    # assign centers and labels\n",
    "    centers = [kmeans.cluster_centers_]\n",
    "    labels  = kmeans.labels_\n",
    "    #number of clusters\n",
    "    m = kmeans.n_clusters\n",
    "    # size of the clusters\n",
    "    n = np.bincount(labels)\n",
    "    #size of data set\n",
    "    N, d = X.shape\n",
    "\n",
    "    #compute variance for all clusters beforehand\n",
    "    cl_var = (1.0 / (N - m) / d) * sum([sum(distance.cdist(X[np.where(labels == i)], [centers[0][i]], \n",
    "             'euclidean')**2) for i in range(m)])\n",
    "\n",
    "    const_term = 0.5 * m * np.log(N) * (d+1)\n",
    "\n",
    "    BIC = np.sum([n[i] * np.log(n[i]) -\n",
    "               n[i] * np.log(N) -\n",
    "             ((n[i] * d) / 2) * np.log(2*np.pi*cl_var) -\n",
    "             ((n[i] - 1) * d/ 2) for i in range(m)]) - const_term\n",
    "    return(BIC)\n",
    "\n",
    "\n",
    "\n",
    "ks = range(1,10)\n",
    "\n",
    "# run 9 times kmeans and save each result in the KMeans object\n",
    "KMeans = [cluster.KMeans(n_clusters = i, init=\"k-means++\").fit(X) for i in ks]\n",
    "\n",
    "# now run for each cluster the BIC computation\n",
    "BIC = [compute_bic(kmeansi,X) for kmeansi in KMeans]\n",
    "print(BIC)\n",
    "plt.plot(ks,BIC,'r-o')\n",
    "plt.title(\"(cluster vs BIC)\")\n",
    "plt.xlabel(\"# clusters\")\n",
    "plt.ylabel(\"# BIC\")\n",
    "           \n",
    "# Fitting K-Means to the dataset\n",
    "from sklearn.cluster import KMeans\n",
    "kmeans = KMeans(n_clusters = 7, init = 'k-means++', random_state = 42)\n",
    "y_kmeans = kmeans.fit_predict(X)\n",
    "\n"
   ]
  },
  {
   "cell_type": "code",
   "execution_count": 4,
   "metadata": {
    "scrolled": true
   },
   "outputs": [
    {
     "name": "stdout",
     "output_type": "stream",
     "text": [
      "[6 1 1 1 6 6 1 1 1 1 6 1 1 1 6 6 6 6 6 6 6 6 1 1 1 1 1 6 6 1 1 6 6 6 1 1 6\n",
      " 1 1 1 1 1 1 1 6 1 6 1 6 1 4 4 4 0 4 5 4 0 4 0 0 0 0 5 0 4 5 0 5 0 5 0 5 5\n",
      " 4 4 4 4 5 0 0 0 0 5 0 4 4 5 0 0 0 5 0 0 0 0 0 4 0 0 2 5 2 2 2 3 0 3 2 3 2\n",
      " 2 2 5 5 2 2 3 3 5 2 5 3 5 2 3 5 5 2 2 3 3 2 5 2 3 2 2 5 2 2 2 5 2 2 2 5 2\n",
      " 2 5]\n"
     ]
    }
   ],
   "source": [
    "print (y_kmeans)"
   ]
  },
  {
   "cell_type": "code",
   "execution_count": null,
   "metadata": {},
   "outputs": [],
   "source": []
  },
  {
   "cell_type": "code",
   "execution_count": null,
   "metadata": {},
   "outputs": [],
   "source": []
  }
 ],
 "metadata": {
  "kernelspec": {
   "display_name": "Python 3",
   "language": "python",
   "name": "python3"
  },
  "language_info": {
   "codemirror_mode": {
    "name": "ipython",
    "version": 3
   },
   "file_extension": ".py",
   "mimetype": "text/x-python",
   "name": "python",
   "nbconvert_exporter": "python",
   "pygments_lexer": "ipython3",
   "version": "3.7.6"
  }
 },
 "nbformat": 4,
 "nbformat_minor": 4
}
